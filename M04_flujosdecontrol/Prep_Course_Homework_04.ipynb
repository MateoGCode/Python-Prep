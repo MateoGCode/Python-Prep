{
 "cells": [
  {
   "attachments": {},
   "cell_type": "markdown",
   "metadata": {},
   "source": [
    "## Flujos de Control"
   ]
  },
  {
   "attachments": {},
   "cell_type": "markdown",
   "metadata": {},
   "source": [
    "1) Crear una variable que contenga un elemento del conjunto de números enteros y luego imprimir por pantalla si es mayor o menor a cero"
   ]
  },
  {
   "cell_type": "code",
   "execution_count": 2,
   "metadata": {},
   "outputs": [
    {
     "name": "stdout",
     "output_type": "stream",
     "text": [
      "es mayor a cero\n"
     ]
    }
   ],
   "source": [
    "x=1\n",
    "if x>0:\n",
    "    print(\"es mayor a cero\")\n",
    "elif x<0:\n",
    "    print(\"es menor a cero\")"
   ]
  },
  {
   "attachments": {},
   "cell_type": "markdown",
   "metadata": {},
   "source": [
    "2) Crear dos variables y un condicional que informe si son del mismo tipo de dato"
   ]
  },
  {
   "cell_type": "code",
   "execution_count": 4,
   "metadata": {},
   "outputs": [
    {
     "name": "stdout",
     "output_type": "stream",
     "text": [
      "son distintos tipos de datos\n"
     ]
    }
   ],
   "source": [
    "a=2\n",
    "b=\"texto\"\n",
    "if type(a)==type(b):\n",
    "    print(\"son el mismo tipo de dato\")\n",
    "else:\n",
    "    print(\"son distintos tipos de datos\")\n"
   ]
  },
  {
   "attachments": {},
   "cell_type": "markdown",
   "metadata": {},
   "source": [
    "3) Para los valores enteros del 1 al 20, imprimir por pantalla si es par o impar"
   ]
  },
  {
   "cell_type": "code",
   "execution_count": 47,
   "metadata": {},
   "outputs": [
    {
     "name": "stdout",
     "output_type": "stream",
     "text": [
      "1  impar\n",
      "2  par\n",
      "3  impar\n",
      "4  par\n",
      "5  impar\n",
      "6  par\n",
      "7  impar\n",
      "8  par\n",
      "9  impar\n",
      "10  par\n",
      "11  impar\n",
      "12  par\n",
      "13  impar\n",
      "14  par\n",
      "15  impar\n",
      "16  par\n",
      "17  impar\n",
      "18  par\n",
      "19  impar\n",
      "20  par\n"
     ]
    }
   ],
   "source": [
    "for n in range(1,21):\n",
    "    if n%2==0:\n",
    "         print(n,\" par\")\n",
    "    else:\n",
    "         print(n,\" impar\")\n",
    "    \n",
    "    \n"
   ]
  },
  {
   "attachments": {},
   "cell_type": "markdown",
   "metadata": {},
   "source": [
    "4) En un ciclo for mostrar para los valores entre 0 y 5 el resultado de elevarlo a la potencia igual a 3"
   ]
  },
  {
   "cell_type": "code",
   "execution_count": 51,
   "metadata": {},
   "outputs": [
    {
     "name": "stdout",
     "output_type": "stream",
     "text": [
      "La potencia a la 3 de 0 = 0\n",
      "La potencia a la 3 de 1 = 1\n",
      "La potencia a la 3 de 2 = 8\n",
      "La potencia a la 3 de 3 = 27\n",
      "La potencia a la 3 de 4 = 64\n",
      "La potencia a la 3 de 5 = 125\n"
     ]
    }
   ],
   "source": [
    "for num in range(0,6):\n",
    "    pot=num**3\n",
    "    print(\"La potencia a la 3 de\",num,\"=\",pot)"
   ]
  },
  {
   "attachments": {},
   "cell_type": "markdown",
   "metadata": {},
   "source": [
    "5) Crear una variable que contenga un número entero y realizar un ciclo for la misma cantidad de ciclos"
   ]
  },
  {
   "cell_type": "code",
   "execution_count": 45,
   "metadata": {},
   "outputs": [
    {
     "name": "stdout",
     "output_type": "stream",
     "text": [
      "4\n"
     ]
    }
   ],
   "source": [
    "num=5\n",
    "for var in range(0,num):\n",
    "    pass\n",
    "print(var)\n"
   ]
  },
  {
   "attachments": {},
   "cell_type": "markdown",
   "metadata": {},
   "source": [
    "6) Utilizar un ciclo while para realizar el factorial de un número guardado en una variable, sólo si la variable contiene un número entero mayor a 0"
   ]
  },
  {
   "cell_type": "code",
   "execution_count": 73,
   "metadata": {},
   "outputs": [
    {
     "name": "stdout",
     "output_type": "stream",
     "text": [
      "el factorial de 6 es = 720\n"
     ]
    }
   ],
   "source": [
    "var=6\n",
    "if (type(var)==int):\n",
    "    if (var>0):\n",
    "        fac=var\n",
    "        var1=var\n",
    "        while (var>2):\n",
    "             var=var-1\n",
    "             fac=fac*var\n",
    "        print(\"el factorial de\",var1,\"es =\",fac)\n",
    "    else:\n",
    "        print(\"el numero no es mayor a 0\")\n",
    "else:\n",
    "    print(\"el numero no es un entero\")\n"
   ]
  },
  {
   "attachments": {},
   "cell_type": "markdown",
   "metadata": {},
   "source": [
    "7) Crear un ciclo for dentro de un ciclo while"
   ]
  },
  {
   "cell_type": "code",
   "execution_count": 156,
   "metadata": {},
   "outputs": [
    {
     "name": "stdout",
     "output_type": "stream",
     "text": [
      "resultado= 2\n",
      "resultado= 3\n",
      "resultado= 4\n",
      "resultado= 5\n",
      "resultado= 6\n",
      "resultado= 7\n",
      "resultado= 8\n",
      "resultado= 9\n",
      "resultado= 10\n",
      "resultado= 11\n",
      "resultado= 12\n",
      "resultado= 13\n",
      "resultado= 14\n",
      "resultado= 15\n",
      "resultado= 16\n",
      "resultado= 17\n",
      "resultado= 18\n",
      "resultado= 19\n",
      "resultado= 20\n",
      "no se puede salir del rango\n"
     ]
    }
   ],
   "source": [
    "sum=4\n",
    "while (sum<20):\n",
    "    numeros= range(1,20)\n",
    "    for num in numeros:\n",
    "        sum=num+1\n",
    "        \n",
    "        print(\"resultado=\",sum)\n",
    "        \n",
    "print(\"no se puede salir del rango\")"
   ]
  },
  {
   "attachments": {},
   "cell_type": "markdown",
   "metadata": {},
   "source": [
    "8) Crear un ciclo while dentro de un ciclo for"
   ]
  },
  {
   "cell_type": "code",
   "execution_count": 183,
   "metadata": {},
   "outputs": [
    {
     "name": "stdout",
     "output_type": "stream",
     "text": [
      "ciclo for n° 1\n",
      "ciclo while n° 1\n",
      "ciclo while n° 2\n",
      "ciclo while n° 3\n",
      "ciclo for n° 2\n",
      "ciclo while n° 1\n",
      "ciclo while n° 2\n",
      "ciclo while n° 3\n",
      "ciclo for n° 3\n",
      "ciclo while n° 1\n",
      "ciclo while n° 2\n",
      "ciclo while n° 3\n",
      "ciclo for n° 4\n",
      "ciclo while n° 1\n",
      "ciclo while n° 2\n",
      "ciclo while n° 3\n"
     ]
    }
   ],
   "source": [
    "for ciclofor in range(1,5):\n",
    "    print(\"ciclo for n°\",ciclofor)\n",
    "    ciclofor+=1\n",
    "    ciclowhile=1\n",
    "    while (ciclowhile<4):\n",
    "        print(\"ciclo while n°\",ciclowhile)\n",
    "        ciclowhile+=1"
   ]
  },
  {
   "attachments": {},
   "cell_type": "markdown",
   "metadata": {},
   "source": [
    "9) Imprimir los números primos existentes entre 0 y 30"
   ]
  },
  {
   "cell_type": "code",
   "execution_count": 15,
   "metadata": {},
   "outputs": [
    {
     "name": "stdout",
     "output_type": "stream",
     "text": [
      "0 es primo\n",
      "1 es primo\n",
      "2 es primo\n",
      "3 es primo\n",
      "5 es primo\n",
      "7 es primo\n",
      "11 es primo\n",
      "13 es primo\n",
      "17 es primo\n",
      "19 es primo\n",
      "23 es primo\n",
      "29 es primo\n"
     ]
    }
   ],
   "source": [
    "num_max=30\n",
    "n=0\n",
    "primo=True\n",
    "\n",
    "while (n<num_max):\n",
    "    for div in range(2,n):\n",
    "        if (n%div==0):\n",
    "            primo=False\n",
    "    if (primo):\n",
    "        print(n,\"es primo\")\n",
    "    else:\n",
    "        primo=True\n",
    "    n+=1\n",
    "\n",
    "\n",
    "\n",
    "            \n"
   ]
  },
  {
   "attachments": {},
   "cell_type": "markdown",
   "metadata": {},
   "source": [
    "10) ¿Se puede mejorar el proceso del punto 9? Utilizar las sentencias break y/ó continue para tal fin"
   ]
  },
  {
   "cell_type": "code",
   "execution_count": 40,
   "metadata": {},
   "outputs": [
    {
     "name": "stdout",
     "output_type": "stream",
     "text": [
      "0 es primo\n",
      "1 es primo\n",
      "2 es primo\n",
      "3 es primo\n",
      "5 es primo\n",
      "7 es primo\n",
      "11 es primo\n",
      "13 es primo\n",
      "17 es primo\n",
      "19 es primo\n",
      "23 es primo\n",
      "29 es primo\n"
     ]
    }
   ],
   "source": [
    "num_max=30\n",
    "n=0\n",
    "primo=True\n",
    "\n",
    "while (n<num_max):\n",
    "    for div in range(2,n):\n",
    "        if (n%div==0):\n",
    "            primo=False\n",
    "            break\n",
    "    if (primo):\n",
    "        print(n,\"es primo\")\n",
    "    else:\n",
    "        primo=True\n",
    "    n+=1\n",
    "  \n",
    "    "
   ]
  },
  {
   "attachments": {},
   "cell_type": "markdown",
   "metadata": {},
   "source": [
    "11) En los puntos 9 y 10, se diseño un código que encuentra números primos y además se lo optimizó. ¿Es posible saber en qué medida se optimizó?"
   ]
  },
  {
   "cell_type": "code",
   "execution_count": 4,
   "metadata": {},
   "outputs": [
    {
     "name": "stdout",
     "output_type": "stream",
     "text": [
      "0 es primo\n",
      "1 es primo\n",
      "2 es primo\n",
      "3 es primo\n",
      "5 es primo\n",
      "7 es primo\n",
      "11 es primo\n",
      "13 es primo\n",
      "17 es primo\n",
      "19 es primo\n",
      "23 es primo\n",
      "29 es primo\n",
      "cantidad de ciclos sin break= 378\n"
     ]
    }
   ],
   "source": [
    "num_max=30\n",
    "n=0\n",
    "primo=True\n",
    "ciclo_sbreak=0\n",
    "while (n<num_max):\n",
    "    \n",
    "    for div in range(2,n):\n",
    "        ciclo_sbreak+=1\n",
    "        if (n%div==0):\n",
    "            primo=False\n",
    "    if (primo):\n",
    "        print(n,\"es primo\")\n",
    "    else:\n",
    "        primo=True\n",
    "    n+=1\n",
    "print((\"cantidad de ciclos sin break=\"),ciclo_sbreak)\n"
   ]
  },
  {
   "cell_type": "code",
   "execution_count": 13,
   "metadata": {},
   "outputs": [
    {
     "name": "stdout",
     "output_type": "stream",
     "text": [
      "0 es primo\n",
      "1 es primo\n",
      "2 es primo\n",
      "3 es primo\n",
      "5 es primo\n",
      "7 es primo\n",
      "11 es primo\n",
      "13 es primo\n",
      "17 es primo\n",
      "19 es primo\n",
      "23 es primo\n",
      "29 es primo\n",
      "cantidad de ciclos con break= 134\n",
      "fue optimizado un 0.3544973544973545 %\n"
     ]
    }
   ],
   "source": [
    "num_max=30\n",
    "n=0\n",
    "primo=True\n",
    "ciclo_cbreak=0\n",
    "while (n<num_max):\n",
    "    for div in range(2,n):\n",
    "        ciclo_cbreak+=1\n",
    "        if (n%div==0):\n",
    "            primo=False\n",
    "            break\n",
    "    if (primo):\n",
    "        print(n,\"es primo\")\n",
    "    else:\n",
    "        primo=True\n",
    "    n+=1\n",
    "print(\"cantidad de ciclos con break=\",ciclo_cbreak)\n",
    "print(\"fue optimizado un\",(ciclo_cbreak/ciclo_sbreak),\"%\")"
   ]
  },
  {
   "attachments": {},
   "cell_type": "markdown",
   "metadata": {},
   "source": [
    "12) Aplicando continue, armar un ciclo while que solo imprima los valores divisibles por 12, dentro del rango de números de 100 a 300"
   ]
  },
  {
   "cell_type": "code",
   "execution_count": 61,
   "metadata": {},
   "outputs": [
    {
     "name": "stdout",
     "output_type": "stream",
     "text": [
      "108 es divisible por 12\n",
      "120 es divisible por 12\n",
      "132 es divisible por 12\n",
      "144 es divisible por 12\n",
      "156 es divisible por 12\n",
      "168 es divisible por 12\n",
      "180 es divisible por 12\n",
      "192 es divisible por 12\n",
      "204 es divisible por 12\n",
      "216 es divisible por 12\n",
      "228 es divisible por 12\n",
      "240 es divisible por 12\n",
      "252 es divisible por 12\n",
      "264 es divisible por 12\n",
      "276 es divisible por 12\n",
      "288 es divisible por 12\n",
      "300 es divisible por 12\n"
     ]
    }
   ],
   "source": [
    "n=99\n",
    "while n<=300:                  #sin continue\n",
    "    n+=1\n",
    "    if (n%12)==0:\n",
    "         print(n,\"es divisible por 12\")\n",
    "            \n",
    "\n",
    "    \n"
   ]
  },
  {
   "cell_type": "code",
   "execution_count": 72,
   "metadata": {},
   "outputs": [
    {
     "name": "stdout",
     "output_type": "stream",
     "text": [
      "108 es divisible por 12\n",
      "120 es divisible por 12\n",
      "132 es divisible por 12\n",
      "144 es divisible por 12\n",
      "156 es divisible por 12\n",
      "168 es divisible por 12\n",
      "180 es divisible por 12\n",
      "192 es divisible por 12\n",
      "204 es divisible por 12\n",
      "216 es divisible por 12\n",
      "228 es divisible por 12\n",
      "240 es divisible por 12\n",
      "252 es divisible por 12\n",
      "264 es divisible por 12\n",
      "276 es divisible por 12\n",
      "288 es divisible por 12\n",
      "300 es divisible por 12\n"
     ]
    }
   ],
   "source": [
    "n=99\n",
    "\n",
    "while n<=300:          #con continue\n",
    "    n+=1\n",
    "    if n%12!=0:\n",
    "     continue\n",
    "    print(n,\"es divisible por 12\")"
   ]
  },
  {
   "attachments": {},
   "cell_type": "markdown",
   "metadata": {},
   "source": [
    "13) Utilizar la función **input()** que permite hacer ingresos por teclado, para encontrar números primos y dar la opción al usario de buscar el siguiente"
   ]
  },
  {
   "cell_type": "code",
   "execution_count": 23,
   "metadata": {},
   "outputs": [
    {
     "name": "stdout",
     "output_type": "stream",
     "text": [
      "quiere bucar el primer numero primo? Presione s\n",
      "2 es primo\n",
      "quiere bucar el siguiente numero primo? presione s\n",
      "3 es primo\n",
      "quiere bucar el siguiente numero primo? presione s\n",
      "5 es primo\n",
      "quiere bucar el siguiente numero primo? presione s\n",
      "7 es primo\n",
      "quiere bucar el siguiente numero primo? presione s\n",
      "11 es primo\n",
      "quiere bucar el siguiente numero primo? presione s\n",
      "13 es primo\n",
      "quiere bucar el siguiente numero primo? presione s\n",
      "17 es primo\n",
      "quiere bucar el siguiente numero primo? presione s\n",
      "finalizado\n"
     ]
    }
   ],
   "source": [
    "print(\"quiere bucar el primer numero primo? Presione s\")\n",
    "siguiente=input()\n",
    "n=2\n",
    "primo=True\n",
    "\n",
    "while (siguiente==\"s\"):\n",
    "    for div in range(2,n):\n",
    "        if (n%div==0):\n",
    "            primo=False\n",
    "            break\n",
    "    if (primo):\n",
    "        print(n,\"es primo\")\n",
    "        print(\"quiere bucar el siguiente numero primo? presione s\")\n",
    "        siguiente=input()\n",
    "        if siguiente!=\"s\":\n",
    "            print(\"finalizado\")\n",
    "            break\n",
    "    else:\n",
    "        primo=True\n",
    "    n+=1\n",
    "\n",
    "    \n",
    "    "
   ]
  },
  {
   "attachments": {},
   "cell_type": "markdown",
   "metadata": {},
   "source": [
    "14) Crear un ciclo while que encuentre dentro del rango de 100 a 300 el primer número divisible por 3 y además múltiplo de 6"
   ]
  },
  {
   "cell_type": "code",
   "execution_count": 81,
   "metadata": {},
   "outputs": [
    {
     "name": "stdout",
     "output_type": "stream",
     "text": [
      "102 es el primero\n"
     ]
    }
   ],
   "source": [
    "\n",
    "rango=100\n",
    "while rango<=300:\n",
    "     if rango%3==0 and rango%6==0:           #en este caso el primer numero divisible por 3 es tambien multiplo de 6 y la primer parte de esta linea es innecesaria, pero la pongo igual porque si lo seria en caso de que las condiciones fueran otras. \n",
    "            print(rango,\"es el primero\")\n",
    "            break\n",
    "     rango+=1\n",
    "            \n",
    "        "
   ]
  }
 ],
 "metadata": {
  "interpreter": {
   "hash": "c85384e4cb51c8b72350f3a8712cc8351fdc3955e32a27f9b60c6242ab125f01"
  },
  "kernelspec": {
   "display_name": "Python 3 (ipykernel)",
   "language": "python",
   "name": "python3"
  },
  "language_info": {
   "codemirror_mode": {
    "name": "ipython",
    "version": 3
   },
   "file_extension": ".py",
   "mimetype": "text/x-python",
   "name": "python",
   "nbconvert_exporter": "python",
   "pygments_lexer": "ipython3",
   "version": "3.11.6"
  }
 },
 "nbformat": 4,
 "nbformat_minor": 4
}
